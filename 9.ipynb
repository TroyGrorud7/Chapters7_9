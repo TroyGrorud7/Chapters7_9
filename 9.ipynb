{
 "cells": [
  {
   "cell_type": "code",
   "execution_count": null,
   "metadata": {},
   "outputs": [],
   "source": [
    "def good(ppl=[\"Harry\", \"Ron\", \"Hermionr\"]):\n",
    "  return ppl\n",
    "\n",
    "\n",
    "print(good())"
   ]
  },
  {
   "cell_type": "code",
   "execution_count": null,
   "metadata": {},
   "outputs": [],
   "source": []
  }
 ],
 "metadata": {
  "language_info": {
   "name": "python"
  }
 },
 "nbformat": 4,
 "nbformat_minor": 2
}
